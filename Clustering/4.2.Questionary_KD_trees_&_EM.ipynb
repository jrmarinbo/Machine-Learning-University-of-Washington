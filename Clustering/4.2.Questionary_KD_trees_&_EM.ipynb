{
 "cells": [
  {
   "cell_type": "markdown",
   "id": "c6692bc0",
   "metadata": {},
   "source": [
    "# EJERCICIOS CUESTIONARIO KD-TREES"
   ]
  },
  {
   "cell_type": "markdown",
   "id": "57e0bc52",
   "metadata": {},
   "source": [
    "Question 2\n",
    "Questions 2, 3, 4, and 5 involves training a KD-tree on the following dataset:\n",
    "```\n",
    "              \n",
    "              +----------------------+----------------------+\n",
    "              |          X1          |         X2           |\n",
    "|-------------+----------------------+----------------------+\n",
    "|Data point 1 |         -1.58        |       -2.01          |\n",
    "|-------------+----------------------+----------------------+\n",
    "|Data point 2 |          0.91        |        3.98          |\n",
    "|-------------+----------------------+----------------------+\n",
    "|Data point 3 |         -0.73        |        4.00          |\n",
    "|-------------+----------------------+----------------------+\n",
    "|Data point 4 |         -4.22        |        1.16          |\n",
    "|-------------+----------------------+----------------------+\n",
    "|Data point 5 |          4.19        |       -2.02          |\n",
    "|-------------+----------------------+----------------------+\n",
    "|Data point 6 |         -0.33        |        2.15          |\n",
    "|-------------+----------------------+----------------------+\n",
    "\n",
    "```\n",
    "Train a KD-tree by hand as follows:\n",
    "\n",
    "First split using X1 and then using X2. Alternate between X1 and X2 in order.\n",
    "\n",
    "Use “middle-of-the-range” heuristic for each split. Take the maximum and minimum of the coordinates of the member points.\n",
    "\n",
    "Keep subdividing until every leaf node contains two or fewer data points."
   ]
  },
  {
   "cell_type": "code",
   "execution_count": 1,
   "id": "e18839ac",
   "metadata": {},
   "outputs": [
    {
     "data": {
      "text/plain": [
       "array([[-1.58, -2.01],\n",
       "       [ 0.91,  3.98],\n",
       "       [-0.73,  4.  ],\n",
       "       [-4.22,  1.16],\n",
       "       [ 4.19, -2.02],\n",
       "       [-0.33,  2.15]])"
      ]
     },
     "execution_count": 1,
     "metadata": {},
     "output_type": "execute_result"
    }
   ],
   "source": [
    "import numpy as np\n",
    "\n",
    "x1 = np.array([-1.58, 0.91, -0.73, -4.22, 4.19, -0.33])\n",
    "x2 = np.array([-2.01, 3.98, 4.00, 1.16, -2.02, 2.15])\n",
    "\n",
    "x = np.vstack((x1, x2)).T\n",
    "x"
   ]
  },
  {
   "cell_type": "code",
   "execution_count": 6,
   "id": "22aa84a4",
   "metadata": {},
   "outputs": [
    {
     "data": {
      "text/plain": [
       "-0.01499999999999968"
      ]
     },
     "execution_count": 6,
     "metadata": {},
     "output_type": "execute_result"
    }
   ],
   "source": [
    "# Mid range of x1\n",
    "x1_midrange = (x1.max() + x1.min())/2\n",
    "x1_midrange"
   ]
  },
  {
   "cell_type": "markdown",
   "id": "4ce8af3b",
   "metadata": {},
   "source": [
    "## What is the split value used for the first split? Enter the exact value, as you are expected to obtain a finite number of decimals. Use American-style decimals (e.g. 0.026).\n"
   ]
  },
  {
   "cell_type": "markdown",
   "id": "99ae5475",
   "metadata": {},
   "source": [
    "**R/:** -0.015"
   ]
  },
  {
   "cell_type": "code",
   "execution_count": 3,
   "id": "baad2013",
   "metadata": {},
   "outputs": [],
   "source": [
    "def get_mid_range(data, column=0):\n",
    "    \"\"\" Get midrange of data by column\n",
    "    - x1: column=0\n",
    "    - x2: column=1\n",
    "    \"\"\"\n",
    "    midrange = (data[:, column].max() + data[:, column].min())/2\n",
    "    return midrange      \n",
    "\n",
    "def split_by(x, value, column=0):\n",
    "    \"\"\" Split x array by value and column\n",
    "    - x1: column=0\n",
    "    - x2: column=1\n",
    "    \"\"\"\n",
    "    split1 = x[x[:, column] <= value]\n",
    "    split2 = x[x[:, column] > value]\n",
    "    return split1, split2"
   ]
  },
  {
   "cell_type": "code",
   "execution_count": 4,
   "id": "2eeeb6e5",
   "metadata": {},
   "outputs": [
    {
     "data": {
      "text/plain": [
       "array([[-1.58, -2.01],\n",
       "       [-0.73,  4.  ],\n",
       "       [-4.22,  1.16],\n",
       "       [-0.33,  2.15]])"
      ]
     },
     "execution_count": 4,
     "metadata": {},
     "output_type": "execute_result"
    }
   ],
   "source": [
    "x1_midrange = get_mid_range(x)\n",
    "x1_split1, x1_split2 = split_by(x, x1_midrange)\n",
    "\n",
    "# Split values of x1\n",
    "x1_split1"
   ]
  },
  {
   "cell_type": "code",
   "execution_count": 5,
   "id": "6daf1ea5",
   "metadata": {},
   "outputs": [
    {
     "data": {
      "text/plain": [
       "array([[ 0.91,  3.98],\n",
       "       [ 4.19, -2.02]])"
      ]
     },
     "execution_count": 5,
     "metadata": {},
     "output_type": "execute_result"
    }
   ],
   "source": [
    "# Split values of x1\n",
    "x1_split2"
   ]
  },
  {
   "cell_type": "markdown",
   "id": "fcd8fa87",
   "metadata": {},
   "source": [
    "## What is the split value used for the second split? Enter the exact value, as you are expected to obtain a finite number of decimals. Use American-style decimals (e.g. 0.026)."
   ]
  },
  {
   "cell_type": "markdown",
   "id": "c92a0dc0",
   "metadata": {},
   "source": [
    "**R/:** 0.995"
   ]
  },
  {
   "cell_type": "code",
   "execution_count": 7,
   "id": "09ed5160",
   "metadata": {},
   "outputs": [
    {
     "name": "stdout",
     "output_type": "stream",
     "text": [
      "0.9950000000000001\n"
     ]
    }
   ],
   "source": [
    "# Mid range of x2 for the 1st split\n",
    "# x1_split1_x2_midrange = (x1_split1[:, 1].max() + x1_split1[:, 1].min())/2\n",
    "x1_split1_x2_midrange = get_mid_range(x1_split1, column=1)\n",
    "\n",
    "print (x1_split1_x2_midrange)"
   ]
  },
  {
   "cell_type": "code",
   "execution_count": 8,
   "id": "ac70aacc",
   "metadata": {},
   "outputs": [
    {
     "name": "stdout",
     "output_type": "stream",
     "text": [
      "0.98\n"
     ]
    }
   ],
   "source": [
    "# # Mid range of x2 for 2nd split\n",
    "x1_split2_x2_midrange = get_mid_range(x1_split2, column=1)\n",
    "print (x1_split2_x2_midrange)"
   ]
  },
  {
   "cell_type": "markdown",
   "id": "35829918",
   "metadata": {},
   "source": [
    "## Given a query point (-3, 1.5), which of the data points belong to the same leaf node as the query point? Choose all that apply.\n",
    "\n",
    "- Data point 1\n",
    "- Data point 2  \n",
    "- Data point 3\n",
    "- Data point 4\n",
    "- Data point 5\n",
    "- Data point 6"
   ]
  },
  {
   "cell_type": "markdown",
   "id": "0a060036",
   "metadata": {},
   "source": [
    "**R/:** DATA POINT 4"
   ]
  },
  {
   "cell_type": "code",
   "execution_count": 10,
   "id": "75703812",
   "metadata": {},
   "outputs": [
    {
     "data": {
      "text/plain": [
       "array([[-1.58, -2.01]])"
      ]
     },
     "execution_count": 10,
     "metadata": {},
     "output_type": "execute_result"
    }
   ],
   "source": [
    "x1_split1_x2_split1, x1_split1_x2_split2 = split_by(x1_split1, x1_split1_x2_midrange, column=1)\n",
    "x1_split1_x2_split1"
   ]
  },
  {
   "cell_type": "code",
   "execution_count": 11,
   "id": "4f48ed57",
   "metadata": {},
   "outputs": [
    {
     "data": {
      "text/plain": [
       "array([[-0.73,  4.  ],\n",
       "       [-4.22,  1.16],\n",
       "       [-0.33,  2.15]])"
      ]
     },
     "execution_count": 11,
     "metadata": {},
     "output_type": "execute_result"
    }
   ],
   "source": [
    "# node still has 3 data points\n",
    "# continue to split\n",
    "\n",
    "x1_split1_x2_split2 "
   ]
  },
  {
   "cell_type": "code",
   "execution_count": 12,
   "id": "ec3197a4",
   "metadata": {},
   "outputs": [
    {
     "data": {
      "text/plain": [
       "2.58"
      ]
     },
     "execution_count": 12,
     "metadata": {},
     "output_type": "execute_result"
    }
   ],
   "source": [
    "x1_split1_x2_split2_midrange = get_mid_range(x1_split1_x2_split2, column=1)\n",
    "x1_split1_x2_split2_midrange"
   ]
  },
  {
   "cell_type": "code",
   "execution_count": 13,
   "id": "7e4e09b6",
   "metadata": {},
   "outputs": [
    {
     "data": {
      "text/plain": [
       "array([[-4.22,  1.16],\n",
       "       [-0.33,  2.15]])"
      ]
     },
     "execution_count": 13,
     "metadata": {},
     "output_type": "execute_result"
    }
   ],
   "source": [
    "x1_split1_x2_split2_x2_split1, x1_split1_x2_split2_x2_split2 = split_by(x1_split1_x2_split2, \n",
    "                                                                        x1_split1_x2_split2_midrange, \n",
    "                                                                        column=1)\n",
    "x1_split1_x2_split2_x2_split1\n",
    "# Continue to split"
   ]
  },
  {
   "cell_type": "code",
   "execution_count": 14,
   "id": "b895ee24",
   "metadata": {},
   "outputs": [
    {
     "data": {
      "text/plain": [
       "array([[-0.73,  4.  ]])"
      ]
     },
     "execution_count": 14,
     "metadata": {},
     "output_type": "execute_result"
    }
   ],
   "source": [
    "x1_split1_x2_split2_x2_split2"
   ]
  },
  {
   "cell_type": "code",
   "execution_count": 15,
   "id": "9ce78576",
   "metadata": {},
   "outputs": [
    {
     "data": {
      "text/plain": [
       "1.6549999999999998"
      ]
     },
     "execution_count": 15,
     "metadata": {},
     "output_type": "execute_result"
    }
   ],
   "source": [
    "x1_split1_x2_split2_x2_split1_midrange = get_mid_range(x1_split1_x2_split2_x2_split1, column=1)\n",
    "x1_split1_x2_split2_x2_split1_midrange"
   ]
  },
  {
   "cell_type": "markdown",
   "id": "f947bc7e",
   "metadata": {},
   "source": [
    "## After split x1_split1_x2_split2_x2_split1 by 1.654, then we will have 2 more leaves. Data point 4: [-4.22, 1.16] will be the leaves contain the query point (-3, 1.5)"
   ]
  },
  {
   "cell_type": "markdown",
   "id": "9ce1232f",
   "metadata": {},
   "source": [
    "## Perform backtracking with the query point (-3, 1.5) to perform exact nearest neighbor search. Which of the data points would be pruned from the search? Choose all that apply.\n",
    "\n",
    "Hint: Assume that each node in the KD-tree remembers the tight bound on the coordinates of its member points, as follows:\n",
    "\n"
   ]
  },
  {
   "cell_type": "code",
   "execution_count": 16,
   "id": "718fbf47",
   "metadata": {},
   "outputs": [
    {
     "data": {
      "text/plain": [
       "array([[ 4.19, -2.02]])"
      ]
     },
     "execution_count": 16,
     "metadata": {},
     "output_type": "execute_result"
    }
   ],
   "source": [
    "x1_split2_x2_split1, x1_split2_x2_split2 = split_by(x1_split2, x1_split2_x2_midrange, column=1)\n",
    "x1_split2_x2_split1"
   ]
  },
  {
   "cell_type": "code",
   "execution_count": 17,
   "id": "99ec0953",
   "metadata": {},
   "outputs": [
    {
     "data": {
      "text/plain": [
       "array([[0.91, 3.98]])"
      ]
     },
     "execution_count": 17,
     "metadata": {},
     "output_type": "execute_result"
    }
   ],
   "source": [
    "x1_split2_x2_split2"
   ]
  },
  {
   "cell_type": "markdown",
   "id": "aa11a979",
   "metadata": {},
   "source": [
    "## COMPARACION K-MEANS Y EM"
   ]
  },
  {
   "cell_type": "code",
   "execution_count": 27,
   "id": "d225b548",
   "metadata": {},
   "outputs": [],
   "source": [
    "import numpy as np\n",
    "import turicreate as tc\n",
    "import scipy\n",
    "from scipy.stats import multivariate_normal #función de densidad de probabilidad (PDF) de la distribución gaussiana subyacente"
   ]
  },
  {
   "cell_type": "markdown",
   "id": "62cd121e",
   "metadata": {},
   "source": [
    "## E-step: calcular las responsabilidades del clúster, dados los parámetros del clúster"
   ]
  },
  {
   "cell_type": "code",
   "execution_count": 12,
   "id": "ed5d58a4",
   "metadata": {},
   "outputs": [
    {
     "name": "stdout",
     "output_type": "stream",
     "text": [
      "1.275199678019219e-05\n"
     ]
    }
   ],
   "source": [
    "#el punto de datos 0, la PDF de la distribución gaussiana para el conglomerado A tiene un valor de\n",
    "print (scipy.stats.multivariate_normal.pdf([10,5], mean=[3,4], cov=[[3,0],[0,3]]))\n",
    "\n",
    "#El valor que hay en mean(3,4) es la coordenada del centroide"
   ]
  },
  {
   "cell_type": "code",
   "execution_count": 13,
   "id": "81cb2d34",
   "metadata": {},
   "outputs": [
    {
     "name": "stdout",
     "output_type": "stream",
     "text": [
      "4.250665593397396e-06\n"
     ]
    }
   ],
   "source": [
    "#el punto de datos 0, la PDF de la distribución gaussiana para el conglomerado A tiene un valor ponderado de\n",
    "print (1/3*scipy.stats.multivariate_normal.pdf([10,5], mean=[3,4], cov=[[3,0],[0,3]]))"
   ]
  },
  {
   "cell_type": "code",
   "execution_count": 14,
   "id": "effc80e3",
   "metadata": {},
   "outputs": [
    {
     "name": "stdout",
     "output_type": "stream",
     "text": [
      "0.0006308547090047343\n"
     ]
    }
   ],
   "source": [
    "#el punto de datos 0, la PDF de la distribución gaussiana para el conglomerado B tiene un valor ponderado de\n",
    "print (1/3*scipy.stats.multivariate_normal.pdf([10,5], mean=[6,3], cov=[[3,0],[0,3]]))"
   ]
  },
  {
   "cell_type": "code",
   "execution_count": 15,
   "id": "90d179d1",
   "metadata": {},
   "outputs": [
    {
     "name": "stdout",
     "output_type": "stream",
     "text": [
      "3.710464810267033e-05\n"
     ]
    }
   ],
   "source": [
    "#el punto de datos 0, la PDF de la distribución gaussiana para el conglomerado C tiene un valor ponderado de\n",
    "print (1/3*scipy.stats.multivariate_normal.pdf([10,5], mean=[4,6], cov=[[3,0],[0,3]]))"
   ]
  },
  {
   "cell_type": "markdown",
   "id": "f0851ec4",
   "metadata": {},
   "source": [
    "### Claramente, el grupo B tiene la medida de probabilidad más alta. Esto tiene sentido porque el punto de datos 0 está más cerca del centro del grupo B que otros."
   ]
  },
  {
   "cell_type": "code",
   "execution_count": 19,
   "id": "9320ee0b",
   "metadata": {},
   "outputs": [
    {
     "data": {
      "text/plain": [
       "0.000672210022700802"
      ]
     },
     "execution_count": 19,
     "metadata": {},
     "output_type": "execute_result"
    }
   ],
   "source": [
    "suma = 4.250665593397396e-06 + 0.0006308547090047343 + 3.710464810267033e-05\n",
    "suma"
   ]
  },
  {
   "cell_type": "markdown",
   "id": "c735da8b",
   "metadata": {},
   "source": [
    "### responsabilidades del clúster para el punto de datos 0!\n",
    "\n",
    "El mayor valor con un 93% de pertenencia del dato 0 al cluster B"
   ]
  },
  {
   "cell_type": "code",
   "execution_count": 18,
   "id": "8bbaca08",
   "metadata": {},
   "outputs": [
    {
     "name": "stdout",
     "output_type": "stream",
     "text": [
      "0.0063234189462381026\n",
      "0.9384785821402803\n",
      "0.05519799891348163\n"
     ]
    }
   ],
   "source": [
    "responsabilidad_1 = 4.250665593397396e-06 / suma\n",
    "responsabilidad_2 = 0.0006308547090047343 / suma\n",
    "responsabilidad_3 = 3.710464810267033e-05 / suma\n",
    "\n",
    "print (responsabilidad_1)\n",
    "print (responsabilidad_2)\n",
    "print (responsabilidad_3)"
   ]
  },
  {
   "cell_type": "markdown",
   "id": "95236874",
   "metadata": {},
   "source": [
    "## Para el punto de datos 1"
   ]
  },
  {
   "cell_type": "code",
   "execution_count": 20,
   "id": "9f56ee41",
   "metadata": {},
   "outputs": [
    {
     "name": "stdout",
     "output_type": "stream",
     "text": [
      "0.0033400539801177326\n",
      "0.0006308547090047343\n",
      "0.00014076271225061746\n"
     ]
    }
   ],
   "source": [
    "print (1/3*scipy.stats.multivariate_normal.pdf([2,1], mean=[3,4], cov=[[3,0],[0,3]]))\n",
    "print (1/3*scipy.stats.multivariate_normal.pdf([2,1], mean=[6,3], cov=[[3,0],[0,3]]))\n",
    "print (1/3*scipy.stats.multivariate_normal.pdf([2,1], mean=[4,6], cov=[[3,0],[0,3]]))\n"
   ]
  },
  {
   "cell_type": "code",
   "execution_count": 21,
   "id": "df44cdc3",
   "metadata": {},
   "outputs": [
    {
     "name": "stdout",
     "output_type": "stream",
     "text": [
      "0.8123348521971693\n",
      "0.15343023491470198\n",
      "0.03423491288812866\n"
     ]
    }
   ],
   "source": [
    "suma = 0.0033400539801177326 + 0.0006308547090047343 + 0.00014076271225061746\n",
    "suma\n",
    "\n",
    "responsabilidad_1 = 0.0033400539801177326 / suma\n",
    "responsabilidad_2 = 0.0006308547090047343 / suma\n",
    "responsabilidad_3 = 0.00014076271225061746 / suma\n",
    "\n",
    "print (responsabilidad_1)\n",
    "print (responsabilidad_2)\n",
    "print (responsabilidad_3)"
   ]
  },
  {
   "cell_type": "markdown",
   "id": "b7601cfa",
   "metadata": {},
   "source": [
    "## Para el punto de datos 2"
   ]
  },
  {
   "cell_type": "code",
   "execution_count": 22,
   "id": "2ee2dc16",
   "metadata": {},
   "outputs": [
    {
     "name": "stdout",
     "output_type": "stream",
     "text": [
      "0.003945807548945426\n",
      "0.0002741683263617117\n",
      "0.012671055550881397\n"
     ]
    }
   ],
   "source": [
    "print (1/3*scipy.stats.multivariate_normal.pdf([3,7], mean=[3,4], cov=[[3,0],[0,3]]))\n",
    "print (1/3*scipy.stats.multivariate_normal.pdf([3,7], mean=[6,3], cov=[[3,0],[0,3]]))\n",
    "print (1/3*scipy.stats.multivariate_normal.pdf([3,7], mean=[4,6], cov=[[3,0],[0,3]]))"
   ]
  },
  {
   "cell_type": "code",
   "execution_count": 25,
   "id": "f240ece0",
   "metadata": {},
   "outputs": [
    {
     "name": "stdout",
     "output_type": "stream",
     "text": [
      "0.2336037065698479\n",
      "0.016231591750911677\n",
      "0.7501647016792403\n"
     ]
    }
   ],
   "source": [
    "suma = 0.003945807548945426 + 0.0002741683263617117 + 0.012671055550881397\n",
    "suma\n",
    "\n",
    "responsabilidad_1 = 0.003945807548945426 / suma\n",
    "responsabilidad_2 = 0.0002741683263617117 / suma\n",
    "responsabilidad_3 = 0.012671055550881397 / suma\n",
    "\n",
    "print (responsabilidad_1)\n",
    "print (responsabilidad_2)\n",
    "print (responsabilidad_3)"
   ]
  },
  {
   "cell_type": "code",
   "execution_count": 30,
   "id": "18ad831c",
   "metadata": {},
   "outputs": [
    {
     "name": "stdout",
     "output_type": "stream",
     "text": [
      "+---------------------------+-----------+-----------+-----------+\n",
      "| Matriz de responsabilidad | Cluster A | Cluster B | Cluster C |\n",
      "+---------------------------+-----------+-----------+-----------+\n",
      "|      punto de datos 0     |   0.007   |   0.938   |   0.055   |\n",
      "|      punto de datos 1     |   0.812   |   0.154   |   0.034   |\n",
      "|      punto de datos 2     |   0.234   |   0.016   |    0.75   |\n",
      "|       Conteos suaves      |   1.053   |   1.108   |   0.839   |\n",
      "+---------------------------+-----------+-----------+-----------+\n",
      "[4 rows x 4 columns]\n",
      "\n"
     ]
    }
   ],
   "source": [
    "ex_sframe = tc.SFrame()\n",
    "ex_sframe['Matriz de responsabilidad'] = 'punto de datos 0','punto de datos 1','punto de datos 2','Conteos suaves'\n",
    "ex_sframe['Cluster A'] = 0.007,0.812,0.234,1.053\n",
    "ex_sframe['Cluster B'] = 0.938,0.154,0.016,1.108\n",
    "ex_sframe['Cluster C'] = 0.055,0.034,0.750,0.839\n",
    "\n",
    "print (ex_sframe)"
   ]
  },
  {
   "cell_type": "markdown",
   "id": "529c1060",
   "metadata": {},
   "source": [
    "## M-step: Compute los parámetros del clúster, dadas las responsabilidades del clúster"
   ]
  },
  {
   "cell_type": "code",
   "execution_count": 31,
   "id": "5830aa9d",
   "metadata": {},
   "outputs": [
    {
     "name": "stdout",
     "output_type": "stream",
     "text": [
      "0.351\n",
      "0.36933333333333335\n",
      "0.2796666666666667\n"
     ]
    }
   ],
   "source": [
    "#CALCULAMOS LOS PORCENTAJES DE LOS CONTEOS SUAVES QUE SERAN LOS NUEVOS PESOS DE LOS CLUSTERS\n",
    "\n",
    "suma = 1.053 + 1.108 + 0.839 \n",
    "conteoA = 1.053 / suma\n",
    "conteoB = 1.108 / suma\n",
    "conteoC = 0.839 / suma\n",
    "\n",
    "print (conteoA)\n",
    "print (conteoB)\n",
    "print (conteoC)"
   ]
  },
  {
   "cell_type": "markdown",
   "id": "7eee90f2",
   "metadata": {},
   "source": [
    "### Means. Primero agregamos partes fraccionarias de todos los puntos de datos, usando las responsabilidades del grupo:\n",
    "\n",
    "[Weighted sum of data points for cluster A] =\n",
    "\n",
    "[Fraction of data point 0 represented in cluster A] * [data point 0] +\n",
    "[Fraction of data point 1 represented in cluster A] * [data point 1] +\n",
    "[Fraction of data point 2 represented in cluster A] * [data point 2]\n",
    "\n",
    "= 0.007*[data point 0] + 0.812*[data point 1] + 0.234*[data point 2]"
   ]
  },
  {
   "cell_type": "code",
   "execution_count": 36,
   "id": "30c0830d",
   "metadata": {
    "scrolled": true
   },
   "outputs": [
    {
     "name": "stdout",
     "output_type": "stream",
     "text": [
      "0.07 0.035\n",
      "1.624 0.812\n",
      "0.7020000000000001 1.6380000000000001\n"
     ]
    }
   ],
   "source": [
    "#0.007*(10,5)\n",
    "print (0.007*10,0.007*5)\n",
    "\n",
    "#0.812*(2,1)\n",
    "print(0.812*2,0.812*1)\n",
    "\n",
    "#0.234*(3,7)\n",
    "print (0.234*3,0.234*7)"
   ]
  },
  {
   "cell_type": "code",
   "execution_count": 38,
   "id": "4784de9d",
   "metadata": {},
   "outputs": [
    {
     "name": "stdout",
     "output_type": "stream",
     "text": [
      "2.396\n",
      "2.485\n",
      "2.275403608736942\n",
      "2.359924026590693\n"
     ]
    }
   ],
   "source": [
    "print (0.07 + 1.624 + 0.702)\n",
    "print (0.035 + 0.812 + 1.638)\n",
    "\n",
    "#Luego dividimos esta suma por el conteo suave:\n",
    "\n",
    "print ((0.07 + 1.624 + 0.702)/1.053)\n",
    "print ((0.035 + 0.812 + 1.638)/1.053)"
   ]
  },
  {
   "cell_type": "markdown",
   "id": "b2da73d0",
   "metadata": {},
   "source": [
    "### Repitiendo este proceso para el cluster B y C, obtenemos la nueva estimación de medias:"
   ]
  },
  {
   "cell_type": "code",
   "execution_count": 39,
   "id": "ad723914",
   "metadata": {},
   "outputs": [
    {
     "name": "stdout",
     "output_type": "stream",
     "text": [
      "+---------------+-------+-------+\n",
      "| Nuevas medias |   X   |   Y   |\n",
      "+---------------+-------+-------+\n",
      "|   Cluster A   | 2.275 |  2.36 |\n",
      "|   Cluster B   | 8.787 | 4.473 |\n",
      "|   Cluster C   | 3.418 | 6.626 |\n",
      "+---------------+-------+-------+\n",
      "[3 rows x 3 columns]\n",
      "\n"
     ]
    }
   ],
   "source": [
    "ex_sframe = tc.SFrame()\n",
    "ex_sframe['Nuevas medias'] = 'Cluster A','Cluster B','Cluster C'\n",
    "ex_sframe['X'] = 2.275,8.787,3.418\n",
    "ex_sframe['Y'] = 2.360,4.473,6.626\n",
    "\n",
    "print (ex_sframe)"
   ]
  },
  {
   "cell_type": "markdown",
   "id": "529fb3d7",
   "metadata": {},
   "source": [
    "### Calcular las covarianzas\n",
    "\n",
    "$$\n",
    "(x_i - \\hat{\\mu_k})*(x_i - \\hat{\\mu_k})^T\n",
    "$$\n",
    "$$\n",
    "x_0 - \\hat{\\mu_A} = (10,5)-(2.275,2.360)=(7.725, 2.640)\n",
    "$$\n",
    "$$\n",
    "x_1 - \\hat{\\mu_A} = (2,1)-(2.275,2.360)=(-0.275,-1.360)\n",
    "$$\n",
    "$$\n",
    "x_2 - \\hat{\\mu_A} = (3,7)-(2.275,2.360)=(0.725,4.640)\n",
    "$$"
   ]
  },
  {
   "cell_type": "markdown",
   "id": "a1034095",
   "metadata": {},
   "source": [
    "### Luego calculamos tres productos externos. Tenga en cuenta que los productos exteriores son realmente matrices de dos por dos.\n",
    "\n",
    "$$\n",
    "(x_0 - \\hat{\\mu_A})*(x_0 - \\hat{\\mu_A})^T  = [[7.725], [2.640]] * [[7.725,2.640]] = [[59.676,20.394], [20.394,6.970]]\n",
    "$$\n",
    "$$\n",
    "(x_1 - \\hat{\\mu_A})*(x_1 - \\hat{\\mu_A})^T  = [[-0.275], [-1.360]] * [[-0.275,-1.360]] = [[0.076,0.374], [0.374,1.850]]\n",
    "$$\n",
    "$$\n",
    "(x_2 - \\hat{\\mu_A})*(x_2 - \\hat{\\mu_A})^T  = [[0.725], [4.640]] * [[0.725,4.640]] = [[0.526,3.364], [3.364,21.530]]\n",
    "$$"
   ]
  },
  {
   "cell_type": "markdown",
   "id": "09162bac",
   "metadata": {},
   "source": [
    "### Finalmente, tomamos el promedio ponderado, nuevamente usando las responsabilidades del clúster:\n",
    "\n",
    "[Weighted sum of outer products]=\n",
    "\n",
    "[Fraction of data point 0 represented in cluster A] * [outer product for data point 0] +\n",
    "[Fraction of data point 1 represented in cluster A] * [outer product for data point 1] +\n",
    "[Fraction of data point 2 represented in cluster A] * [outer product for data point 2]\n",
    "\n",
    "=\n",
    "\n",
    "0.007*[[59.676,20.394], [20.394,6.970]] + \n",
    "0.812*[[0.076,0.374], [0.374,1.850]] + \n",
    "0.234*[[0.526,3.364], [3.364,21.530]]\n",
    "\n",
    "=\n",
    "\n",
    "[[0.602, 1.234], [1.234, 6.589]]\n",
    "\n",
    "[New covariance for cluster A] =\n",
    "[[0.602,1.234], [1.234,6.589]]/1.053\n",
    "\n",
    "=\n",
    "\n",
    "[[0.572,1.172], [1.172,6.257]]"
   ]
  },
  {
   "cell_type": "markdown",
   "id": "f188d98c",
   "metadata": {},
   "source": [
    "### Repitiendo este cálculo para el cluster B y C, llegamos a la siguiente estimación de covarianzas:"
   ]
  },
  {
   "cell_type": "code",
   "execution_count": 40,
   "id": "c39b897a",
   "metadata": {},
   "outputs": [
    {
     "name": "stdout",
     "output_type": "stream",
     "text": [
      "+--------------------+-------------------------------+\n",
      "| Nuevas covarianzas |              Cov              |\n",
      "+--------------------+-------------------------------+\n",
      "|     Cluster A      | [[0.572, 1.172], [1.172, 6... |\n",
      "|     Cluster B      | [[8.132, 3.606], [3.606, 2... |\n",
      "|     Cluster C      | [[3.078, -0.518], [-0.518,... |\n",
      "+--------------------+-------------------------------+\n",
      "[3 rows x 2 columns]\n",
      "\n"
     ]
    }
   ],
   "source": [
    "ex_sframe = tc.SFrame()\n",
    "ex_sframe['Nuevas covarianzas'] = 'Cluster A','Cluster B','Cluster C'\n",
    "ex_sframe['Cov'] = [[0.572,1.172], [1.172,6.257]],[[8.132,3.606], [3.606,2.004]], [[3.078,-0.518], [-0.518,1.581]]\n",
    "\n",
    "print (ex_sframe)"
   ]
  },
  {
   "cell_type": "markdown",
   "id": "510453ea",
   "metadata": {},
   "source": [
    "### Algoritmo EM: alternando entre E-step y M-step.\n",
    "\n",
    "Ahora que tenemos una mejor estimación de los parámetros del clúster, regresamos nuevamente y volvemos a calcular las responsabilidades del clúster. Entonces podemos llegar a una estimación de parámetros aún mejor. De hecho, resulta que podemos alternar entre el paso E y el paso M tantas veces como queramos, y cada vez mejora la calidad del agrupamiento."
   ]
  },
  {
   "cell_type": "code",
   "execution_count": null,
   "id": "04c67844",
   "metadata": {},
   "outputs": [],
   "source": []
  }
 ],
 "metadata": {
  "kernelspec": {
   "display_name": "Python 3 (ipykernel)",
   "language": "python",
   "name": "python3"
  },
  "language_info": {
   "codemirror_mode": {
    "name": "ipython",
    "version": 3
   },
   "file_extension": ".py",
   "mimetype": "text/x-python",
   "name": "python",
   "nbconvert_exporter": "python",
   "pygments_lexer": "ipython3",
   "version": "3.8.10"
  }
 },
 "nbformat": 4,
 "nbformat_minor": 5
}
