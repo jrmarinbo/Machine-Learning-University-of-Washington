{
 "cells": [
  {
   "cell_type": "code",
   "execution_count": 2,
   "id": "c4133f26",
   "metadata": {},
   "outputs": [],
   "source": [
    "import turicreate as tc\n",
    "import pandas\n"
   ]
  },
  {
   "cell_type": "code",
   "execution_count": 3,
   "id": "37f6fcee",
   "metadata": {},
   "outputs": [
    {
     "data": {
      "text/html": [
       "<div style=\"max-height:1000px;max-width:1500px;overflow:auto;\"><table frame=\"box\" rules=\"cols\">\n",
       "    <tr>\n",
       "        <th style=\"padding-left: 1em; padding-right: 1em; text-align: center\">x1</th>\n",
       "        <th style=\"padding-left: 1em; padding-right: 1em; text-align: center\">x2</th>\n",
       "        <th style=\"padding-left: 1em; padding-right: 1em; text-align: center\">x3</th>\n",
       "        <th style=\"padding-left: 1em; padding-right: 1em; text-align: center\">y</th>\n",
       "    </tr>\n",
       "    <tr>\n",
       "        <td style=\"padding-left: 1em; padding-right: 1em; text-align: center; vertical-align: top\">1</td>\n",
       "        <td style=\"padding-left: 1em; padding-right: 1em; text-align: center; vertical-align: top\">1</td>\n",
       "        <td style=\"padding-left: 1em; padding-right: 1em; text-align: center; vertical-align: top\">1</td>\n",
       "        <td style=\"padding-left: 1em; padding-right: 1em; text-align: center; vertical-align: top\">1</td>\n",
       "    </tr>\n",
       "    <tr>\n",
       "        <td style=\"padding-left: 1em; padding-right: 1em; text-align: center; vertical-align: top\">0</td>\n",
       "        <td style=\"padding-left: 1em; padding-right: 1em; text-align: center; vertical-align: top\">1</td>\n",
       "        <td style=\"padding-left: 1em; padding-right: 1em; text-align: center; vertical-align: top\">0</td>\n",
       "        <td style=\"padding-left: 1em; padding-right: 1em; text-align: center; vertical-align: top\">-1</td>\n",
       "    </tr>\n",
       "    <tr>\n",
       "        <td style=\"padding-left: 1em; padding-right: 1em; text-align: center; vertical-align: top\">1</td>\n",
       "        <td style=\"padding-left: 1em; padding-right: 1em; text-align: center; vertical-align: top\">0</td>\n",
       "        <td style=\"padding-left: 1em; padding-right: 1em; text-align: center; vertical-align: top\">1</td>\n",
       "        <td style=\"padding-left: 1em; padding-right: 1em; text-align: center; vertical-align: top\">-1</td>\n",
       "    </tr>\n",
       "    <tr>\n",
       "        <td style=\"padding-left: 1em; padding-right: 1em; text-align: center; vertical-align: top\">0</td>\n",
       "        <td style=\"padding-left: 1em; padding-right: 1em; text-align: center; vertical-align: top\">0</td>\n",
       "        <td style=\"padding-left: 1em; padding-right: 1em; text-align: center; vertical-align: top\">1</td>\n",
       "        <td style=\"padding-left: 1em; padding-right: 1em; text-align: center; vertical-align: top\">1</td>\n",
       "    </tr>\n",
       "</table>\n",
       "[4 rows x 4 columns]<br/>\n",
       "</div>"
      ],
      "text/plain": [
       "Columns:\n",
       "\tx1\tstr\n",
       "\tx2\tstr\n",
       "\tx3\tstr\n",
       "\ty\tstr\n",
       "\n",
       "Rows: 4\n",
       "\n",
       "Data:\n",
       "+----+----+----+----+\n",
       "| x1 | x2 | x3 | y  |\n",
       "+----+----+----+----+\n",
       "| 1  | 1  | 1  | 1  |\n",
       "| 0  | 1  | 0  | -1 |\n",
       "| 1  | 0  | 1  | -1 |\n",
       "| 0  | 0  | 1  | 1  |\n",
       "+----+----+----+----+\n",
       "[4 rows x 4 columns]"
      ]
     },
     "execution_count": 3,
     "metadata": {},
     "output_type": "execute_result"
    }
   ],
   "source": [
    "x = tc.SFrame({'x1':['1','0','1','0'],'x2':['1','1','0','0'],'x3':['1','0','1','1'],'y':['1','-1','-1','1']})\n",
    "\n",
    "x\n"
   ]
  },
  {
   "cell_type": "code",
   "execution_count": 4,
   "id": "e2cb388f",
   "metadata": {},
   "outputs": [],
   "source": [
    "features = ['x1','x2','x3']\n",
    "target = 'y'"
   ]
  },
  {
   "cell_type": "code",
   "execution_count": 5,
   "id": "77684f6f",
   "metadata": {},
   "outputs": [
    {
     "data": {
      "text/html": [
       "<pre>Decision tree classifier:</pre>"
      ],
      "text/plain": [
       "Decision tree classifier:"
      ]
     },
     "metadata": {},
     "output_type": "display_data"
    },
    {
     "data": {
      "text/html": [
       "<pre>--------------------------------------------------------</pre>"
      ],
      "text/plain": [
       "--------------------------------------------------------"
      ]
     },
     "metadata": {},
     "output_type": "display_data"
    },
    {
     "data": {
      "text/html": [
       "<pre>Number of examples          : 4</pre>"
      ],
      "text/plain": [
       "Number of examples          : 4"
      ]
     },
     "metadata": {},
     "output_type": "display_data"
    },
    {
     "data": {
      "text/html": [
       "<pre>Number of classes           : 2</pre>"
      ],
      "text/plain": [
       "Number of classes           : 2"
      ]
     },
     "metadata": {},
     "output_type": "display_data"
    },
    {
     "data": {
      "text/html": [
       "<pre>Number of feature columns   : 3</pre>"
      ],
      "text/plain": [
       "Number of feature columns   : 3"
      ]
     },
     "metadata": {},
     "output_type": "display_data"
    },
    {
     "data": {
      "text/html": [
       "<pre>Number of unpacked features : 3</pre>"
      ],
      "text/plain": [
       "Number of unpacked features : 3"
      ]
     },
     "metadata": {},
     "output_type": "display_data"
    },
    {
     "data": {
      "text/html": [
       "<pre>+-----------+--------------+-------------------+-------------------+</pre>"
      ],
      "text/plain": [
       "+-----------+--------------+-------------------+-------------------+"
      ]
     },
     "metadata": {},
     "output_type": "display_data"
    },
    {
     "data": {
      "text/html": [
       "<pre>| Iteration | Elapsed Time | Training Accuracy | Training Log Loss |</pre>"
      ],
      "text/plain": [
       "| Iteration | Elapsed Time | Training Accuracy | Training Log Loss |"
      ]
     },
     "metadata": {},
     "output_type": "display_data"
    },
    {
     "data": {
      "text/html": [
       "<pre>+-----------+--------------+-------------------+-------------------+</pre>"
      ],
      "text/plain": [
       "+-----------+--------------+-------------------+-------------------+"
      ]
     },
     "metadata": {},
     "output_type": "display_data"
    },
    {
     "data": {
      "text/html": [
       "<pre>| 1         | 0.019269     | 1.000000          | 0.513015          |</pre>"
      ],
      "text/plain": [
       "| 1         | 0.019269     | 1.000000          | 0.513015          |"
      ]
     },
     "metadata": {},
     "output_type": "display_data"
    },
    {
     "data": {
      "text/html": [
       "<pre>+-----------+--------------+-------------------+-------------------+</pre>"
      ],
      "text/plain": [
       "+-----------+--------------+-------------------+-------------------+"
      ]
     },
     "metadata": {},
     "output_type": "display_data"
    }
   ],
   "source": [
    "decission_tree_model = tc.decision_tree_classifier.create(x,\n",
    "                                                         validation_set=None,\n",
    "                                                         target = target,\n",
    "                                                         features = features)"
   ]
  },
  {
   "cell_type": "code",
   "execution_count": 8,
   "id": "b80cc717",
   "metadata": {},
   "outputs": [
    {
     "name": "stdout",
     "output_type": "stream",
     "text": [
      "Class                          : DecisionTreeClassifier\n",
      "\n",
      "Schema\n",
      "------\n",
      "Number of examples             : 4\n",
      "Number of feature columns      : 3\n",
      "Number of unpacked features    : 3\n",
      "Number of classes              : 2\n",
      "\n",
      "Settings\n",
      "--------\n",
      "Number of trees                : 1\n",
      "Max tree depth                 : 6\n",
      "Training time (sec)            : 0.0197\n",
      "Training accuracy              : 1.0\n",
      "Training log_loss              : 0.513\n",
      "Training auc                   : 1.0\n",
      "\n"
     ]
    }
   ],
   "source": [
    "print (decission_tree_model)"
   ]
  },
  {
   "cell_type": "code",
   "execution_count": 13,
   "id": "a7623fce",
   "metadata": {},
   "outputs": [
    {
     "name": "stdout",
     "output_type": "stream",
     "text": [
      "['{\"vertices\":[{\"id\":0,\"name\":\"x3=1\",\"type\":\"indicator\",\"value\":1,\"value_hexadecimal\":\"000028B7\",\"gain\":0.342857,\"cover\":1,\"missing_child\":1,\"yes_child\":2,\"no_child\":1},{\"id\":1,\"type\":\"leaf\",\"value\":-0.4,\"value_hexadecimal\":\"CDCCCCBE\",\"gain\":0,\"cover\":0.25},{\"id\":2,\"name\":\"x1=1\",\"type\":\"indicator\",\"value\":1,\"value_hexadecimal\":\"000028B7\",\"gain\":0.057143,\"cover\":0.75,\"missing_child\":3,\"yes_child\":4,\"no_child\":3},{\"id\":3,\"type\":\"leaf\",\"value\":0.4,\"value_hexadecimal\":\"CDCCCC3E\",\"gain\":0,\"cover\":0.25},{\"id\":4,\"name\":\"x2=1\",\"type\":\"indicator\",\"value\":1,\"value_hexadecimal\":\"000028B7\",\"gain\":0.4,\"cover\":0.5,\"missing_child\":5,\"yes_child\":6,\"no_child\":5},{\"id\":5,\"type\":\"leaf\",\"value\":-0.4,\"value_hexadecimal\":\"CDCCCCBE\",\"gain\":0,\"cover\":0.25},{\"id\":6,\"type\":\"leaf\",\"value\":0.4,\"value_hexadecimal\":\"CDCCCC3E\",\"gain\":0,\"cover\":0.25}],\"edges\":[{\"src\":0,\"dst\":2,\"value\":\"yes\"},{\"src\":0,\"dst\":1,\"value\":\"no\"},{\"src\":2,\"dst\":4,\"value\":\"yes\"},{\"src\":2,\"dst\":3,\"value\":\"no\"},{\"src\":4,\"dst\":6,\"value\":\"yes\"},{\"src\":4,\"dst\":5,\"value\":\"no\"}]}']\n"
     ]
    }
   ],
   "source": [
    "print (decission_tree_model.trees_json)"
   ]
  },
  {
   "cell_type": "code",
   "execution_count": null,
   "id": "86de0434",
   "metadata": {},
   "outputs": [],
   "source": []
  }
 ],
 "metadata": {
  "kernelspec": {
   "display_name": "Python 3 (ipykernel)",
   "language": "python",
   "name": "python3"
  },
  "language_info": {
   "codemirror_mode": {
    "name": "ipython",
    "version": 3
   },
   "file_extension": ".py",
   "mimetype": "text/x-python",
   "name": "python",
   "nbconvert_exporter": "python",
   "pygments_lexer": "ipython3",
   "version": "3.8.10"
  }
 },
 "nbformat": 4,
 "nbformat_minor": 5
}
